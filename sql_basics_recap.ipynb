{
 "cells": [
  {
   "attachments": {},
   "cell_type": "markdown",
   "metadata": {},
   "source": [
    "# Recap - SQL Basics"
   ]
  },
  {
   "attachments": {},
   "cell_type": "markdown",
   "metadata": {},
   "source": [
    "For this recap, we have an extra `data` folder.  \n",
    "\n",
    "We need to download the `jukebox.sqlite` database and place it in this `data` folder.  \n",
    "\n",
    "The `jukebox.sqlite` file is available at this URL:  \n",
    "`https://wagon-public-datasets.s3.amazonaws.com/sql_databases/jukebox.sqlite`"
   ]
  },
  {
   "cell_type": "code",
   "execution_count": null,
   "metadata": {},
   "outputs": [],
   "source": []
  },
  {
   "attachments": {},
   "cell_type": "markdown",
   "metadata": {},
   "source": [
    "Let's have a look at our directory structure"
   ]
  },
  {
   "cell_type": "code",
   "execution_count": null,
   "metadata": {},
   "outputs": [],
   "source": [
    "!tree"
   ]
  },
  {
   "attachments": {},
   "cell_type": "markdown",
   "metadata": {},
   "source": [
    "👉 Open `data/jukebox.sqlite` in **DBeaver** and have a look at the table names & columns."
   ]
  },
  {
   "attachments": {},
   "cell_type": "markdown",
   "metadata": {},
   "source": [
    "---\n",
    "\n",
    "###  Database Schema\n",
    "\n",
    "Here is a **simplified** version of the schema:\n",
    "\n",
    "<img src=\"https://wagon-public-datasets.s3.amazonaws.com/01-Python/03-SQL-Basics/jukebox_schema.png\" width=900>"
   ]
  },
  {
   "attachments": {},
   "cell_type": "markdown",
   "metadata": {},
   "source": [
    "---\n",
    "## 1. All Artists\n",
    "\n",
    "Complete the code below to fetch a list of all the artist names from the database.\n",
    "\n",
    "Fetch only the **artist names**, not all the columns!"
   ]
  },
  {
   "cell_type": "code",
   "execution_count": null,
   "metadata": {},
   "outputs": [],
   "source": [
    "import sqlite3\n",
    "\n",
    "db_path = 'data/jukebox.sqlite'\n",
    "conn = sqlite3.connect(db_path)\n",
    "\n",
    "c = conn.cursor()\n",
    "\n",
    "query = \"\"\"\n",
    "    TODO\n",
    "\"\"\"\n",
    "\n",
    "\n",
    "c.execute(query)\n",
    "rows = c.fetchall()\n",
    "rows\n"
   ]
  },
  {
   "attachments": {},
   "cell_type": "markdown",
   "metadata": {},
   "source": [
    "---\n",
    "## 2. Short Tracks\n",
    "\n",
    "Let's **count** the number of tracks in the database that last **less than 2 minutes**.\n",
    "\n",
    "The goal is to get an integer out, _not a tuple_.\n",
    "\n",
    "**Hint** - *Remember that 1 minute is 60000 milliseconds*"
   ]
  },
  {
   "cell_type": "code",
   "execution_count": null,
   "metadata": {},
   "outputs": [],
   "source": [
    "query = \"\"\"\n",
    "    TODO\n",
    "\"\"\"\n",
    "\n",
    "c.execute(query)\n",
    "\n",
    "# TODO: fetch & print the result\n"
   ]
  },
  {
   "attachments": {},
   "cell_type": "markdown",
   "metadata": {},
   "source": [
    "---\n",
    "\n",
    "## 3. First Ten Albums\n",
    "\n",
    "Let's get the first ten albums of the Jukebox DB, sorted alphabetically."
   ]
  },
  {
   "cell_type": "code",
   "execution_count": null,
   "metadata": {},
   "outputs": [],
   "source": [
    "query = \"\"\"\n",
    "    TODO\n",
    "\"\"\"\n",
    "\n",
    "c.execute(query)\n",
    "rows = c.fetchall()\n",
    "rows\n"
   ]
  },
  {
   "attachments": {},
   "cell_type": "markdown",
   "metadata": {},
   "source": [
    "---\n",
    "## 4. Tracks with a keyword\n",
    "\n",
    "\n",
    "Fetch track & album information for tracks which contain a given keyword (case insensitive)."
   ]
  },
  {
   "cell_type": "code",
   "execution_count": null,
   "metadata": {},
   "outputs": [],
   "source": [
    "keyword = \"Love\"\n",
    "\n",
    "query = \"\"\"\n",
    "    TODO\n",
    "\"\"\"\n",
    "\n",
    "c.execute(query, (f\"%{keyword}%\",)) # <- Will replace \"?\" in the query with %keyword%\n",
    "rows = c.fetchall()\n",
    "rows"
   ]
  },
  {
   "attachments": {},
   "cell_type": "markdown",
   "metadata": {},
   "source": [
    "---\n",
    "## 5. Top 5 artists\n",
    "\n",
    "Finally, let's use what we've learned to do something a bit more advanced. In this assignment, we define a function that takes a string argument, `genre_name`. You need to write a SQL query that finds the top five artists in that genre with the most tracks.\n",
    "\n",
    "Take your time with this one and make sure to use DBeaver to build your query line by line."
   ]
  },
  {
   "cell_type": "code",
   "execution_count": null,
   "metadata": {},
   "outputs": [],
   "source": [
    "def top_five_artists(genre_name):\n",
    "    # TODO: return a list of tuples with the top five artists with the most tracks in a given genre.\n",
    "    # The tuples should contain 2 elements: the artist name and their track count, e.g. ('Vengaboys', 243)\n",
    "    "
   ]
  },
  {
   "cell_type": "code",
   "execution_count": null,
   "metadata": {},
   "outputs": [],
   "source": [
    "top_five_artists('Rock')"
   ]
  }
 ],
 "metadata": {
  "kernelspec": {
   "display_name": "Python 3",
   "language": "python",
   "name": "python3"
  }
 },
 "nbformat": 4,
 "nbformat_minor": 4
}
